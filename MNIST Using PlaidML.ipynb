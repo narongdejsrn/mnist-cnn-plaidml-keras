{
 "cells": [
  {
   "cell_type": "markdown",
   "metadata": {},
   "source": [
    "# Detect MNIST numbers Using Keras and PlaidML"
   ]
  },
  {
   "cell_type": "code",
   "execution_count": 1,
   "metadata": {},
   "outputs": [
    {
     "name": "stderr",
     "output_type": "stream",
     "text": [
      "Using plaidml.keras.backend backend.\n"
     ]
    }
   ],
   "source": [
    "import os\n",
    "import time\n",
    "import numpy as np\n",
    "from matplotlib import pyplot as plt\n",
    "\n",
    "os.environ[\"KERAS_BACKEND\"] = \"plaidml.keras.backend\" # Using PlaidML Backend\n",
    "\n",
    "import keras\n",
    "from keras.datasets import mnist\n",
    "from keras.models import Sequential, load_model\n",
    "from keras.layers import Dense, Dropout, Flatten\n",
    "from keras.layers import Conv2D, MaxPooling2D\n",
    "from keras import backend as K"
   ]
  },
  {
   "cell_type": "markdown",
   "metadata": {},
   "source": [
    "## 1) Prepare the data\n",
    "ทำการโหลด Data MNIST จากเว็บไซต์\n",
    "http://yann.lecun.com/exdb/mnist/ มาไว้ที่ Folder เดียวกันกับ Notebook และทำการแตก gzip"
   ]
  },
  {
   "cell_type": "code",
   "execution_count": 7,
   "metadata": {},
   "outputs": [],
   "source": [
    "image_size = 28\n",
    "num_images = 60000\n",
    "\n",
    "with open('./data/mnist/train-images-idx3-ubyte', 'rb') as fp:\n",
    "    fp.read(16)\n",
    "    buf = fp.read(image_size * image_size * num_images)\n",
    "    data = np.frombuffer(buf, dtype=np.uint8).astype(np.float32)\n",
    "    x_train = data.reshape(num_images, image_size, image_size, 1)\n",
    "    \n",
    "with open('./data/mnist/train-labels-idx1-ubyte', 'rb') as fp:\n",
    "    fp.read(8)\n",
    "    buf = fp.read(num_images)\n",
    "    y_train = np.frombuffer(buf, dtype=np.uint8).astype(np.int64)\n",
    "    \n",
    "num_images = 10000\n",
    "    \n",
    "with open('./data/mnist/t10k-images-idx3-ubyte', 'rb') as fp:\n",
    "    fp.read(16)\n",
    "    buf = fp.read(image_size * image_size * num_images)\n",
    "    data = np.frombuffer(buf, dtype=np.uint8).astype(np.float32)\n",
    "    x_test = data.reshape(num_images, image_size, image_size, 1)\n",
    "    \n",
    "with open('./data/mnist/t10k-labels-idx1-ubyte', 'rb') as fp:\n",
    "    fp.read(8)\n",
    "    buf = fp.read(num_images)\n",
    "    y_test = np.frombuffer(buf, dtype=np.uint8).astype(np.int64)"
   ]
  },
  {
   "cell_type": "code",
   "execution_count": 4,
   "metadata": {},
   "outputs": [
    {
     "data": {
      "text/plain": [
       "<matplotlib.image.AxesImage at 0x1448ddf90>"
      ]
     },
     "execution_count": 4,
     "metadata": {},
     "output_type": "execute_result"
    },
    {
     "data": {
      "image/png": "[encoded data removed]",
      "text/plain": [
       "<Figure size 432x288 with 1 Axes>"
      ]
     },
     "metadata": {
      "needs_background": "light"
     },
     "output_type": "display_data"
    }
   ],
   "source": [
    "n = 150\n",
    "plt.title(f'Label: {y_train[n]}')\n",
    "plt.imshow(x_train[n].squeeze())"
   ]
  },
  {
   "cell_type": "markdown",
   "metadata": {},
   "source": [
    "## 2) Train the model"
   ]
  },
  {
   "cell_type": "code",
   "execution_count": 8,
   "metadata": {},
   "outputs": [
    {
     "name": "stdout",
     "output_type": "stream",
     "text": [
      "x_train shape: (60000, 28, 28, 1)\n",
      "60000 train samples\n",
      "10000 test samples\n",
      "Train on 60000 samples, validate on 10000 samples\n",
      "Epoch 1/20\n",
      "60000/60000 [==============================] - 16s 268us/step - loss: 0.2619 - acc: 0.9199 - val_loss: 0.0571 - val_acc: 0.9817\n",
      "Epoch 2/20\n",
      "60000/60000 [==============================] - 12s 203us/step - loss: 0.0910 - acc: 0.9731 - val_loss: 0.0431 - val_acc: 0.9852\n",
      "Epoch 3/20\n",
      "60000/60000 [==============================] - 12s 205us/step - loss: 0.0670 - acc: 0.9800 - val_loss: 0.0364 - val_acc: 0.9870\n",
      "Epoch 4/20\n",
      "60000/60000 [==============================] - 12s 200us/step - loss: 0.0529 - acc: 0.9839 - val_loss: 0.0332 - val_acc: 0.9894\n",
      "Epoch 5/20\n",
      "60000/60000 [==============================] - 12s 205us/step - loss: 0.0481 - acc: 0.9852 - val_loss: 0.0364 - val_acc: 0.9887\n",
      "Epoch 6/20\n",
      "60000/60000 [==============================] - 12s 204us/step - loss: 0.0419 - acc: 0.9873 - val_loss: 0.0295 - val_acc: 0.9905\n",
      "Epoch 7/20\n",
      "60000/60000 [==============================] - 12s 202us/step - loss: 0.0394 - acc: 0.9878 - val_loss: 0.0289 - val_acc: 0.9902\n",
      "Epoch 8/20\n",
      "60000/60000 [==============================] - 12s 202us/step - loss: 0.0347 - acc: 0.9895 - val_loss: 0.0290 - val_acc: 0.9904\n",
      "Epoch 9/20\n",
      "60000/60000 [==============================] - 12s 201us/step - loss: 0.0322 - acc: 0.9896 - val_loss: 0.0288 - val_acc: 0.9904\n",
      "Epoch 10/20\n",
      "60000/60000 [==============================] - 12s 202us/step - loss: 0.0282 - acc: 0.9913 - val_loss: 0.0300 - val_acc: 0.9919\n",
      "Epoch 11/20\n",
      "60000/60000 [==============================] - 12s 204us/step - loss: 0.0276 - acc: 0.9917 - val_loss: 0.0300 - val_acc: 0.9911\n",
      "Epoch 12/20\n",
      "60000/60000 [==============================] - 12s 202us/step - loss: 0.0252 - acc: 0.9918 - val_loss: 0.0260 - val_acc: 0.9921\n",
      "Epoch 13/20\n",
      "60000/60000 [==============================] - 12s 201us/step - loss: 0.0235 - acc: 0.9925 - val_loss: 0.0294 - val_acc: 0.9905\n",
      "Epoch 14/20\n",
      "60000/60000 [==============================] - 12s 205us/step - loss: 0.0225 - acc: 0.9926 - val_loss: 0.0348 - val_acc: 0.9899\n",
      "Epoch 15/20\n",
      "60000/60000 [==============================] - 12s 204us/step - loss: 0.0220 - acc: 0.9927 - val_loss: 0.0264 - val_acc: 0.9922\n",
      "Epoch 16/20\n",
      "60000/60000 [==============================] - 12s 205us/step - loss: 0.0211 - acc: 0.9932 - val_loss: 0.0337 - val_acc: 0.9908\n",
      "Epoch 17/20\n",
      "60000/60000 [==============================] - 12s 198us/step - loss: 0.0213 - acc: 0.9936 - val_loss: 0.0289 - val_acc: 0.9917\n",
      "Epoch 18/20\n",
      "60000/60000 [==============================] - 12s 201us/step - loss: 0.0222 - acc: 0.9926 - val_loss: 0.0275 - val_acc: 0.9917\n",
      "Epoch 19/20\n",
      "60000/60000 [==============================] - 12s 203us/step - loss: 0.0197 - acc: 0.9940 - val_loss: 0.0291 - val_acc: 0.9912\n",
      "Epoch 20/20\n",
      "60000/60000 [==============================] - 12s 201us/step - loss: 0.0179 - acc: 0.9939 - val_loss: 0.0334 - val_acc: 0.9907\n",
      "Test loss: 0.03335125161111355\n",
      "Test accuracy: 0.9907\n"
     ]
    }
   ],
   "source": [
    "batch_size = 128\n",
    "num_classes = 10\n",
    "epochs = 20\n",
    "\n",
    "img_rows, img_cols = image_size, image_size\n",
    "\n",
    "# Reshape the image \n",
    "x_train = x_train.reshape(x_train.shape[0], img_rows, img_cols, 1)\n",
    "x_test = x_test.reshape(x_test.shape[0], img_rows, img_cols, 1)\n",
    "input_shape = (img_rows, img_cols, 1)  \n",
    "\n",
    "x_train = x_train.astype('float32')\n",
    "x_test = x_test.astype('float32')\n",
    "x_train /= 255\n",
    "x_test /= 255\n",
    "print('x_train shape:', x_train.shape)\n",
    "print(x_train.shape[0], 'train samples')\n",
    "print(x_test.shape[0], 'test samples')\n",
    "\n",
    "# convert class vectors to binary class matrices\n",
    "y_train = keras.utils.to_categorical(y_train, num_classes)\n",
    "y_test = keras.utils.to_categorical(y_test, num_classes)\n",
    "\n",
    "# our model\n",
    "model = Sequential()\n",
    "model.add(Conv2D(32, kernel_size=(3, 3),\n",
    "                 activation='relu',\n",
    "                 input_shape=input_shape))\n",
    "model.add(Conv2D(64, (3, 3), activation='relu'))\n",
    "model.add(MaxPooling2D(pool_size=(2, 2)))\n",
    "model.add(Dropout(0.25))\n",
    "model.add(Flatten())\n",
    "model.add(Dense(128, activation='relu'))\n",
    "model.add(Dropout(0.5))\n",
    "model.add(Dense(num_classes, activation='softmax'))\n",
    "\n",
    "model.compile(loss=keras.losses.categorical_crossentropy,\n",
    "              optimizer=keras.optimizers.Adadelta(),\n",
    "              metrics=['accuracy'])\n",
    "\n",
    "model.fit(x_train, y_train,\n",
    "          batch_size=batch_size,\n",
    "          epochs=epochs,\n",
    "          verbose=1,\n",
    "          validation_data=(x_test, y_test))\n",
    "score = model.evaluate(x_test, y_test, verbose=0)\n",
    "print('Test loss:', score[0])\n",
    "print('Test accuracy:', score[1])"
   ]
  },
  {
   "cell_type": "markdown",
   "metadata": {},
   "source": [
    "## 3) Predict an image"
   ]
  },
  {
   "cell_type": "code",
   "execution_count": 9,
   "metadata": {},
   "outputs": [
    {
     "data": {
      "text/plain": [
       "4"
      ]
     },
     "execution_count": 9,
     "metadata": {},
     "output_type": "execute_result"
    }
   ],
   "source": [
    "np.argmax(model.predict(x_test[6].reshape(1, 28, 28, 1)))"
   ]
  },
  {
   "cell_type": "markdown",
   "metadata": {},
   "source": [
    "## 4) Save the model for later usage"
   ]
  },
  {
   "cell_type": "code",
   "execution_count": 10,
   "metadata": {},
   "outputs": [],
   "source": [
    "model.save('mnist_cnn.h5')"
   ]
  },
  {
   "cell_type": "code",
   "execution_count": null,
   "metadata": {},
   "outputs": [],
   "source": []
  }
 ],
 "metadata": {
  "kernelspec": {
   "display_name": "Python 3",
   "language": "python",
   "name": "python3"
  },
  "language_info": {
   "codemirror_mode": {
    "name": "ipython",
    "version": 3
   },
   "file_extension": ".py",
   "mimetype": "text/x-python",
   "name": "python",
   "nbconvert_exporter": "python",
   "pygments_lexer": "ipython3",
   "version": "3.7.4"
  }
 },
 "nbformat": 4,
 "nbformat_minor": 4
}
